{
  "cells": [
    {
      "cell_type": "markdown",
      "metadata": {
        "id": "DX4r4QJAjKBA"
      },
      "source": [
        "# Chapter 3: Linear Regression for a housing dataset\n",
        "\n",
        "### Importing the necessary packages"
      ]
    },
    {
      "cell_type": "code",
      "execution_count": null,
      "metadata": {
        "id": "NdmKkdOIjMyP",
        "colab": {
          "base_uri": "https://localhost:8080/"
        },
        "outputId": "5d73c914-6c07-4965-eebe-c3445faadea3"
      },
      "outputs": [
        {
          "output_type": "stream",
          "name": "stdout",
          "text": [
            "Cloning into 'machine_learning_1'...\n",
            "remote: Enumerating objects: 186, done.\u001b[K\n",
            "remote: Counting objects: 100% (186/186), done.\u001b[K\n",
            "remote: Compressing objects: 100% (134/134), done.\u001b[K\n",
            "remote: Total 186 (delta 85), reused 150 (delta 49), pack-reused 0\u001b[K\n",
            "Receiving objects: 100% (186/186), 34.12 MiB | 22.28 MiB/s, done.\n",
            "Resolving deltas: 100% (85/85), done.\n",
            "/content/machine_learning_1/linear_regression\n"
          ]
        }
      ],
      "source": [
        "!git clone https://github.com/s7s/machine_learning_1\n",
        "%cd  machine_learning_1/linear_regression\n",
        "# https://docs.google.com/presentation/d/e/2PACX-1vRK_dORAlLxlvo72NRIA43T-6FpZLvqwW1ZaB_CL1BFTeN-g7aOC4ACXqI0uQCMmyNG4DanqiVffNPR/pub?start=false&loop=false&delayms=3000"
      ]
    },
    {
      "cell_type": "code",
      "source": [
        ""
      ],
      "metadata": {
        "id": "IBsnWCu7WfBN"
      },
      "execution_count": null,
      "outputs": []
    },
    {
      "cell_type": "code",
      "execution_count": null,
      "metadata": {
        "id": "2Lp-pE1xjKBG"
      },
      "outputs": [],
      "source": [
        "from matplotlib import pyplot as plt\n",
        "import numpy as np\n",
        "import random\n",
        "import utils\n",
        "from math import sqrt"
      ]
    },
    {
      "cell_type": "markdown",
      "metadata": {
        "id": "VzQuZ_CyjKBH"
      },
      "source": [
        "### Defining and plotting our dataset"
      ]
    },
    {
      "cell_type": "code",
      "execution_count": null,
      "metadata": {
        "id": "TW-HBsNzjKBH",
        "colab": {
          "base_uri": "https://localhost:8080/"
        },
        "outputId": "e1b39a0a-a9cb-475c-af1b-3847a1537877"
      },
      "outputs": [
        {
          "output_type": "stream",
          "name": "stdout",
          "text": [
            "[1 2 3 5 6 7]\n",
            "[155 197 244 356 407 448]\n"
          ]
        }
      ],
      "source": [
        "features = np.array([1,2,3,5,6,7])\n",
        "labels = np.array([155, 197, 244, 356,407,448])\n",
        "\n",
        "print(features)\n",
        "print(labels)"
      ]
    },
    {
      "cell_type": "code",
      "execution_count": null,
      "metadata": {
        "id": "pkC2jEKcjKBI",
        "colab": {
          "base_uri": "https://localhost:8080/",
          "height": 279
        },
        "outputId": "b15163ca-d2be-4da9-a82e-59bf061a053a"
      },
      "outputs": [
        {
          "output_type": "display_data",
          "data": {
            "image/png": "[encoded data removed]",
            "text/plain": [
              "<Figure size 432x288 with 1 Axes>"
            ]
          },
          "metadata": {
            "needs_background": "light"
          }
        }
      ],
      "source": [
        "utils.plot_points(features, labels)"
      ]
    },
    {
      "cell_type": "markdown",
      "metadata": {
        "id": "50-WodUTjKBJ"
      },
      "source": [
        "### Coding the tricks\n",
        "\n",
        "- Simple trick\n",
        "- Absolute trick\n",
        "- Square trick"
      ]
    },
    {
      "cell_type": "code",
      "execution_count": null,
      "metadata": {
        "id": "XgeArBsYjKBJ"
      },
      "outputs": [],
      "source": [
        "def simple_trick(base_price, price_per_room, num_rooms, price):\n",
        "    small_random_1 = random.random()*0.1\n",
        "    small_random_2 = random.random()*0.1\n",
        "    predicted_price = base_price + price_per_room*num_rooms\n",
        "    if price > predicted_price and num_rooms > 0:\n",
        "        price_per_room += small_random_1\n",
        "        base_price += small_random_2\n",
        "    if price > predicted_price and num_rooms < 0:\n",
        "        price_per_room -= small_random_1\n",
        "        base_price += small_random_2\n",
        "    if price < predicted_price and num_rooms > 0:\n",
        "        price_per_room -= small_random_1\n",
        "        base_price -= small_random_2\n",
        "    if price < predicted_price and num_rooms < 0:\n",
        "        price_per_room -= small_random_1\n",
        "        base_price += small_random_2\n",
        "    return price_per_room, base_price"
      ]
    },
    {
      "cell_type": "code",
      "execution_count": null,
      "metadata": {
        "id": "sKFJi0SDjKBK"
      },
      "outputs": [],
      "source": [
        "def square_trick(base_price, price_per_room, num_rooms, price, learning_rate):\n",
        "    ## TODO ##\n",
        "    #implement square_trick and return the new price_per_room and base_price\n",
        "    # calculate the predicted price then calculate the new price_per_room and base_price\n",
        "\n",
        "    price_hat = (price_per_room * num_rooms) + base_price\n",
        "    \n",
        "    base_price = base_price + (learning_rate * (price - price_hat))\n",
        "    price_per_room = price_per_room + (learning_rate * num_rooms * (price - price_hat))\n",
        "\n",
        "    return price_per_room, base_price"
      ]
    },
    {
      "cell_type": "code",
      "source": [
        ""
      ],
      "metadata": {
        "id": "8v9UO5CUqu1z"
      },
      "execution_count": null,
      "outputs": []
    },
    {
      "cell_type": "code",
      "execution_count": null,
      "metadata": {
        "id": "KDpRByp4jKBK"
      },
      "outputs": [],
      "source": [
        "def absolute_trick(base_price, price_per_room, num_rooms, price, learning_rate):\n",
        "    ## TODO ##\n",
        "    #implement absolute_trick and return the new price_per_room and base_price\n",
        "    # calculate the predicted price then calculate the new price_per_room and base_price\n",
        "    price_hat = (price_per_room * num_rooms) + base_price\n",
        "    \n",
        "    if (price > price_hat):\n",
        "      base_price = base_price + learning_rate \n",
        "      price_per_room = price_per_room + (learning_rate * num_rooms)\n",
        "      \n",
        "    elif (price < price_hat):\n",
        "      base_price = base_price - learning_rate\n",
        "      price_per_room = price_per_room - (learning_rate * num_rooms)\n",
        "    \n",
        "    return price_per_room, base_price"
      ]
    },
    {
      "cell_type": "markdown",
      "metadata": {
        "id": "Uak0SEZbjKBL"
      },
      "source": [
        "### Running the linear regression algorithm\n",
        "\n",
        "The linear regression algorithm consists of:\n",
        "- Starting with random weights\n",
        "- Iterating the square (or simple, or absolute) trick many times."
      ]
    },
    {
      "cell_type": "code",
      "execution_count": null,
      "metadata": {
        "id": "j73km5P1jKBL",
        "colab": {
          "base_uri": "https://localhost:8080/",
          "height": 334
        },
        "outputId": "dd6d4124-c63d-467d-dd62-c3cca7208f99"
      },
      "outputs": [
        {
          "output_type": "stream",
          "name": "stdout",
          "text": [
            "Price per room: 51.04430678220095\n",
            "Base price: 91.59448307644864\n"
          ]
        },
        {
          "output_type": "execute_result",
          "data": {
            "text/plain": [
              "(51.04430678220095, 91.59448307644864)"
            ]
          },
          "metadata": {},
          "execution_count": 9
        },
        {
          "output_type": "display_data",
          "data": {
            "image/png": "[encoded data removed]",
            "text/plain": [
              "<Figure size 432x288 with 1 Axes>"
            ]
          },
          "metadata": {
            "needs_background": "light"
          }
        }
      ],
      "source": [
        "import random as rd\n",
        "\n",
        "# We set the random seed in order to always get the same results.\n",
        "random.seed(0)\n",
        "\n",
        "def linear_regression(features, labels, learning_rate=0.01, epochs = 1000):\n",
        "    price_per_room =  random.random() # start with random weight\n",
        "    base_price =  random.random() # start with random bias\n",
        "    ## TODO ##\n",
        "    # for this number of epochs \n",
        "    # get a random datasample of our dataset(x,y)\n",
        "    # using the selected datasample use square_trick fn or absolute_trick fn to update price_per_room and base_price\n",
        "    for i in range(epochs):\n",
        "      index = random.randint(0,len(features)-1)\n",
        "      price_per_room , base_price = square_trick(base_price, price_per_room, features[index], labels[index], learning_rate)\n",
        "      \n",
        "\n",
        "    utils.draw_line(price_per_room, base_price, 'black', starting=0, ending=8)\n",
        "    utils.plot_points(features, labels)\n",
        "    print('Price per room:', price_per_room)\n",
        "    print('Base price:', base_price)\n",
        "    return price_per_room, base_price\n",
        "\n",
        "# This line is for the x-axis to appear in the figure\n",
        "plt.ylim(0,500)\n",
        "\n",
        "linear_regression(features, labels, learning_rate = 0.01, epochs = 1000)"
      ]
    },
    {
      "cell_type": "code",
      "source": [
        "import random as rd\n",
        "\n",
        "# We set the random seed in order to always get the same results.\n",
        "random.seed(0)\n",
        "\n",
        "def linear_regression(features, labels, learning_rate=0.01, epochs = 10000):\n",
        "    price_per_room =  random.random() # start with random weight\n",
        "    base_price =  random.random() # start with random bias\n",
        "    ## TODO ##\n",
        "    # for this number of epochs \n",
        "    # get a random datasample of our dataset(x,y)\n",
        "    # using the selected datasample use square_trick fn or absolute_trick fn to update price_per_room and base_price\n",
        "    for i in range(epochs):\n",
        "      index = random.randint(0,len(features)-1)\n",
        "      price_per_room , base_price = absolute_trick(base_price, price_per_room, features[index], labels[index], learning_rate)\n",
        "\n",
        "    utils.draw_line(price_per_room, base_price, 'black', starting=0, ending=8)\n",
        "    utils.plot_points(features, labels)\n",
        "    print('Price per room:', price_per_room)\n",
        "    print('Base price:', base_price)\n",
        "    return price_per_room, base_price\n",
        "\n",
        "# This line is for the x-axis to appear in the figure\n",
        "plt.ylim(0,500)\n",
        "\n",
        "linear_regression(features, labels, learning_rate = 0.01, epochs = 10000)"
      ],
      "metadata": {
        "colab": {
          "base_uri": "https://localhost:8080/",
          "height": 334
        },
        "id": "go3eqifarME5",
        "outputId": "b81bb315-622a-4c50-f987-fd7e662783d2"
      },
      "execution_count": null,
      "outputs": [
        {
          "output_type": "stream",
          "name": "stdout",
          "text": [
            "Price per room: 59.764421851523906\n",
            "Base price: 48.77795440293917\n"
          ]
        },
        {
          "output_type": "execute_result",
          "data": {
            "text/plain": [
              "(59.764421851523906, 48.77795440293917)"
            ]
          },
          "metadata": {},
          "execution_count": 13
        },
        {
          "output_type": "display_data",
          "data": {
            "image/png": "[encoded data removed]",
            "text/plain": [
              "<Figure size 432x288 with 1 Axes>"
            ]
          },
          "metadata": {
            "needs_background": "light"
          }
        }
      ]
    },
    {
      "cell_type": "markdown",
      "metadata": {
        "id": "IEZJnQv_jKBM"
      },
      "source": [
        "### Root mean squared error function"
      ]
    },
    {
      "cell_type": "code",
      "execution_count": null,
      "metadata": {
        "id": "8yIxnLbFjKBM"
      },
      "outputs": [],
      "source": [
        "# The root mean square error function\n",
        "def rmse(labels, predictions):\n",
        "    ## TODO ##\n",
        "    # calculate the root meen square error between the labels and predictions\n",
        "    sub = labels - predictions\n",
        "    sub_2 = np.power(sub,2)\n",
        "    mse = np.sum(sub_2) / len(sub)\n",
        "    error = sqrt(mse)\n",
        "    return error"
      ]
    },
    {
      "cell_type": "markdown",
      "metadata": {
        "id": "nh29EinojKBM"
      },
      "source": [
        "### Plotting the error function"
      ]
    },
    {
      "cell_type": "code",
      "execution_count": null,
      "metadata": {
        "id": "O3u1TVZLjKBN",
        "colab": {
          "base_uri": "https://localhost:8080/",
          "height": 578
        },
        "outputId": "18b8a837-5d26-46ca-dde1-bc6c62e9acb0"
      },
      "outputs": [
        {
          "output_type": "stream",
          "name": "stdout",
          "text": [
            "Price per room: [50.72006245]\n",
            "Base price: [99.06536295]\n"
          ]
        },
        {
          "output_type": "display_data",
          "data": {
            "image/png": "[encoded data removed]",
            "text/plain": [
              "<Figure size 432x288 with 1 Axes>"
            ]
          },
          "metadata": {
            "needs_background": "light"
          }
        },
        {
          "output_type": "display_data",
          "data": {
            "image/png": "[encoded data removed]",
            "text/plain": [
              "<Figure size 432x288 with 1 Axes>"
            ]
          },
          "metadata": {
            "needs_background": "light"
          }
        },
        {
          "output_type": "execute_result",
          "data": {
            "text/plain": [
              "(array([50.72006245]), array([99.06536295]))"
            ]
          },
          "metadata": {},
          "execution_count": 47
        }
      ],
      "source": [
        "def linear_regression(features, labels, learning_rate=0.01, epochs = 1000):\n",
        "    price_per_room = random.random()\n",
        "    base_price = random.random()\n",
        "    errors = []\n",
        "    for i in range(epochs):\n",
        "        predictions = features*price_per_room+base_price\n",
        "        errors.append(rmse(labels, predictions))\n",
        "        i = random.randint(0, len(features)-1)\n",
        "        num_rooms = features[i]\n",
        "        price = labels[i]\n",
        "        # Uncomment one of the following 3 lines to use the simple, the absolute, or the square trick\n",
        "        #price_per_room, base_price = simple_trick(base_price,\n",
        "        #price_per_room, base_price = absolute_trick(base_price,\n",
        "        price_per_room, base_price = square_trick(base_price,\n",
        "                                                  price_per_room,\n",
        "                                                  num_rooms,\n",
        "                                                  price,\n",
        "                                                  learning_rate=learning_rate)\n",
        "    utils.draw_line(price_per_room, base_price, 'black', starting=0, ending=9)\n",
        "    utils.plot_points(features, labels)\n",
        "    print('Price per room:', price_per_room)\n",
        "    print('Base price:', base_price)\n",
        "    plt.show()\n",
        "    plt.scatter(range(len(errors)), errors)\n",
        "    plt.show()\n",
        "    return price_per_room, base_price\n",
        "\n",
        "linear_regression(features, labels, learning_rate = 0.01, epochs = 10000)"
      ]
    },
    {
      "cell_type": "markdown",
      "metadata": {
        "id": "IFVTjCLMjKBN"
      },
      "source": [
        "### Linear regression using sklearn\n",
        "\n"
      ]
    },
    {
      "cell_type": "code",
      "execution_count": null,
      "metadata": {
        "id": "pRjXCzgqzXKO"
      },
      "outputs": [],
      "source": [
        "## TODO ##\n",
        "# Use sklearn to implement linear regression that fit our data (features, labels)\n",
        "from sklearn.linear_model import LinearRegression\n",
        "\n",
        "features = features.reshape(-1,1)\n",
        "labels = labels.reshape(-1,1)\n",
        "\n",
        "model = LinearRegression().fit(features,labels)\n"
      ]
    },
    {
      "cell_type": "code",
      "execution_count": null,
      "metadata": {
        "id": "q3nEUOfu0OF0",
        "colab": {
          "base_uri": "https://localhost:8080/"
        },
        "outputId": "8c251b38-8f9b-4f6e-91ab-910aed149466"
      },
      "outputs": [
        {
          "output_type": "stream",
          "name": "stdout",
          "text": [
            "[[50.39285714]]\n",
            "[99.5952381]\n"
          ]
        }
      ],
      "source": [
        "## TODO ##\n",
        "# print the coefficients and bias of this model\n",
        "print(model.coef_)\n",
        "print(model.intercept_)"
      ]
    },
    {
      "cell_type": "code",
      "execution_count": null,
      "metadata": {
        "id": "gIULdfcT4ZEi",
        "colab": {
          "base_uri": "https://localhost:8080/"
        },
        "outputId": "4a91de9b-0999-41fe-df35-f97d963c1fec"
      },
      "outputs": [
        {
          "output_type": "execute_result",
          "data": {
            "text/plain": [
              "array([[301.16666667]])"
            ]
          },
          "metadata": {},
          "execution_count": 36
        }
      ],
      "source": [
        "## TODO ##\n",
        "# use this model to predict the price of house that contains 4 rooms\n",
        "model.predict(np.array([[4]]))"
      ]
    },
    {
      "cell_type": "code",
      "source": [
        "features.shape"
      ],
      "metadata": {
        "colab": {
          "base_uri": "https://localhost:8080/"
        },
        "id": "T_MbOcbnHPQd",
        "outputId": "b1d5eb8a-5b31-4d68-e1ab-c336a2f9be4c"
      },
      "execution_count": null,
      "outputs": [
        {
          "output_type": "execute_result",
          "data": {
            "text/plain": [
              "(6, 1)"
            ]
          },
          "metadata": {},
          "execution_count": 41
        }
      ]
    },
    {
      "cell_type": "code",
      "source": [
        "labels.shape"
      ],
      "metadata": {
        "colab": {
          "base_uri": "https://localhost:8080/"
        },
        "id": "wgVZhqBBIk-R",
        "outputId": "92ba9703-01c6-4997-ee9c-ddc663ec98f3"
      },
      "execution_count": null,
      "outputs": [
        {
          "output_type": "execute_result",
          "data": {
            "text/plain": [
              "(6, 1)"
            ]
          },
          "metadata": {},
          "execution_count": 42
        }
      ]
    },
    {
      "cell_type": "markdown",
      "metadata": {
        "id": "4vXa1CM7CDL3"
      },
      "source": [
        "### Normal Equation\n",
        "\n"
      ]
    },
    {
      "cell_type": "code",
      "execution_count": null,
      "metadata": {
        "id": "ar4JBp-cB4cH",
        "colab": {
          "base_uri": "https://localhost:8080/"
        },
        "outputId": "4599ac28-cfbe-4efd-f14b-dda35bfa456e"
      },
      "outputs": [
        {
          "output_type": "stream",
          "name": "stdout",
          "text": [
            "[[99.5952381 ]\n",
            " [50.39285714]]\n"
          ]
        }
      ],
      "source": [
        "def Normal_Equation(features,labels):\n",
        "    ## TODO ##\n",
        "    # Use normal equation to get the weights\n",
        "    # don't forget to concatenate ones to the features\n",
        "    ones  = np.ones(len(features)).reshape(-1,1)\n",
        "    features = np.concatenate((ones,features),1)\n",
        "\n",
        "    W = np.linalg.inv(features.T @ features) @ features.T @ labels\n",
        "\n",
        "\n",
        "    return W\n",
        "\n",
        "W = Normal_Equation(features,labels)\n",
        "print(W)"
      ]
    },
    {
      "cell_type": "code",
      "execution_count": null,
      "metadata": {
        "id": "gWcktyyaQz6W"
      },
      "outputs": [],
      "source": [
        ""
      ]
    }
  ],
  "metadata": {
    "colab": {
      "name": "ML_linear_regression.ipynb",
      "provenance": [],
      "collapsed_sections": []
    },
    "kernelspec": {
      "display_name": "Python 3",
      "language": "python",
      "name": "python3"
    },
    "language_info": {
      "codemirror_mode": {
        "name": "ipython",
        "version": 3
      },
      "file_extension": ".py",
      "mimetype": "text/x-python",
      "name": "python",
      "nbconvert_exporter": "python",
      "pygments_lexer": "ipython3",
      "version": "3.7.6"
    }
  },
  "nbformat": 4,
  "nbformat_minor": 0
}